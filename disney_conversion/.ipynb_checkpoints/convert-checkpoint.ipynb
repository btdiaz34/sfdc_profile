{
 "cells": [
  {
   "cell_type": "markdown",
   "metadata": {},
   "source": [
    "# SFDC Profile: Disney Integration\n",
    "## Goals: Gather Information Based Off Disney Conversion Process\n"
   ]
  },
  {
   "cell_type": "code",
   "execution_count": 25,
   "metadata": {},
   "outputs": [],
   "source": [
    " # Need to import unittestmock for dummy data on the json, salesforce connector, and json\n",
    "from unittest.mock import MagicMock\n",
    "from faker import Faker\n",
    "import json\n",
    "import os\n",
    "import subprocess\n",
    "import time\n",
    "import datetime\n",
    "import dateutil.parser\n",
    "from simple_salesforce import Salesforce\n",
    "faker = Faker()"
   ]
  },
  {
   "cell_type": "code",
   "execution_count": 26,
   "metadata": {},
   "outputs": [],
   "source": [
    "##############################\n",
    "# Org specific Information - #       \n",
    "#   Fill Out the Following:  #\n",
    "#      * Username            #\n",
    "#      * Password            #\n",
    "#      * Security Token      #\n",
    "#      * Property Code       #\n",
    "##############################\n",
    "username ='notify+devorg_project_disney_r3_13217@fortimize.com'\n",
    "pw = '_1V9|1h7-P'\n",
    "token = 'EE6GyOKBcOzvKRbKLc9g4eAjJ'\n",
    "property_code = \"1310\" "
   ]
  },
  {
   "cell_type": "code",
   "execution_count": 27,
   "metadata": {},
   "outputs": [],
   "source": [
    "# Build out simple connector class that establishes a REST connection to SFDC\n",
    "# DO NOT EDIT\n",
    "class Connector(object):\n",
    "    def __init__(self,username,pw,token,isSandbox):\n",
    "        self.username = username\n",
    "        self.pw=pw\n",
    "        self.token=token\n",
    "        self.isSandbox = isSandbox\n",
    "        self.make_connection()\n",
    "    def make_connection(self):\n",
    "        if self.isSandbox:\n",
    "            self.sf = Salesforce(username=self.username, password=self.pw, security_token=self.token, domain='test')\n",
    "        else:\n",
    "            self.sf= Salesforce(username=self.username, password=self.pw, security_token=self.token)\n",
    "    def get_sf(self):\n",
    "        return self.sf\n",
    "\n",
    "connection = Connector(username,pw,token,True)\n"
   ]
  },
  {
   "cell_type": "code",
   "execution_count": 28,
   "metadata": {},
   "outputs": [],
   "source": [
    "def delete_templates():       \n",
    "    templates = connection.sf.query('Select Id FROM Integration_Template__c')['records']\n",
    "    connection.sf.bulk.Integration_Template__c.delete([{'Id':record['Id']} for record in templates])\n",
    "def delete_cases():\n",
    "    cases = connection.sf.query('Select ID From Case')['records']\n",
    "    connection.sf.bulk.Case.delete([{'Id':record['Id']} for record in cases])\n",
    "def delete_accounts():\n",
    "    accounts = connection.sf.query('Select Id FROM Account')['records']\n",
    "    connection.sf.bulk.Account.delete([{'Id':record['Id']} for record in accounts])\n",
    "def delete_apps():\n",
    "    applications = connection.sf.query('Select Id FROM Application__c')['records']\n",
    "    connection.sf.bulk.Application__c.delete([{'Id':record['Id']} for record in applications])\n",
    "def delete_leases():    \n",
    "    leases = connection.sf.query('Select Id FROM Contract')['records']\n",
    "    connection.sf.bulk.Contract.delete([{'Id':record['Id']} for record in leases])\n",
    "def purge_data():\n",
    "    delete_templates()\n",
    "    delete_cases()\n",
    "    delete_accounts()\n",
    "    delete_apps()\n",
    "    #delete_leases()\n",
    "    \n",
    "\n"
   ]
  },
  {
   "cell_type": "code",
   "execution_count": 29,
   "metadata": {},
   "outputs": [],
   "source": [
    "# DO NOT EDIT\n",
    "class LeasableItems():\n",
    "    def __init__(self,sf):\n",
    "        self.sf=sf.sf\n",
    "    def get_id(self,name):\n",
    "        self.records = self.sf.query(\"SELECT ID FROM Product2 WHERE Name ='{}'\".format(name))\n",
    "        return self.records['records'][0]['Id']\n",
    "        \n",
    "parkingItem = LeasableItems(connection)\n",
    "\n",
    "floor_plan=LeasableItems(connection)\n",
    "        "
   ]
  },
  {
   "cell_type": "code",
   "execution_count": 30,
   "metadata": {},
   "outputs": [],
   "source": [
    "# DO NOT EDIT\n",
    "class ApexAsyncJob():\n",
    "    def __init__(self,sf):\n",
    "        self.sf=sf.sf\n",
    "    def get_record(self):\n",
    "        self.record = self.sf.query(\"Select Id,CompletedDate,ExtendedStatus,JobItemsProcessed,JobType,MethodName,NumberOfErrors,Status,TotalJobItems,CreatedDate FROM AsyncApexJob WHERE ApexClass.Name='FMZ_BatchIntegrationConversion' ORDER BY CreatedDate DESC\")\n",
    "        return self.record['records'][0]\n",
    "    def set_id_list(self,record_list):\n",
    "        self.id_list = [i['Id'] for i in record_list]        \n",
    "    def create_set_string(self):\n",
    "        set_string = \"(\"\n",
    "        for i,id_ in enumerate(self.id_list):\n",
    "            if i != len(self.id_list)-1:\n",
    "                set_string+=\"'\"+id_+\"'\"+\",\"\n",
    "            else:\n",
    "                set_string+=\"'\"+id_+\"'\"\n",
    "        set_string+=\")\"\n",
    "        return set_string\n",
    "    def query_on_ids(self,set_string):\n",
    "        self.records = self.sf.query(\"Select Id,CompletedDate,ExtendedStatus,JobItemsProcessed,JobType,MethodName,NumberOfErrors,Status,TotalJobItems,CreatedDate FROM AsyncApexJob WHERE ApexClass.Name='FMZ_BatchIntegrationConversion' AND ID IN {} ORDER BY CreatedDate DESC\".format(set_string))['records']\n",
    "        return self.records\n",
    "        \n",
    "        \n",
    "    \n",
    "        \n"
   ]
  },
  {
   "cell_type": "markdown",
   "metadata": {},
   "source": [
    "### Create JSON that mimics the following format\n",
    "\n",
    "<code>\n",
    " {\n",
    "  \"participantList\":[\n",
    "       {\n",
    "         \"Street\":\"34 Montclair Ave\",\n",
    "         \"State\":\"New York\",\n",
    "         \"Region\":\"United States\",\n",
    "         \"PropertyCode\":\"1310\",\n",
    "         \"PreferredName\":\"Davarious Leeroy\",\n",
    "         \"PostalCode\":\"11752\",\n",
    "         \"Mobile\":\"347-879-1231\",\n",
    "         \"MobileCountryCode\":\"US\",\n",
    "         \"MiddleName\":\"Thomas\",\n",
    "         \"LastName\":\"Leeroy\",\n",
    "         \"HousingGender\":\"Male\",\n",
    "         \"FirstName\":\"Davarious\",\n",
    "         \"EmergencyContactRelationship\"  : \"Mother\",\n",
    "         \"EmergencyContactPhone\":\"203-123-1231\",\n",
    "         \"EmergencyContactName\":\"Tessa Kline\",\n",
    "         \"EmergencyContactCountryCode\":\"US\",\n",
    "         \"Email\":\"mchen@hotmail.com\",\n",
    "         \"DOB\":\"1994-04-04\",\n",
    "         \"City\":\"Selden\",\n",
    "         \"CandidateRefNum\":\"bee8cde6-8965-4aea-8fa9-7c5fafcdc27e-23423-sfvval\",\n",
    "         \"floorPlan\":\n",
    "            {\n",
    "               \"LeasableItemId\":\"01t54000006lcZiAAI\",\n",
    "                \"UnitAssignInDate\":\"2020-01-01\",\n",
    "                 \"UnitAssignOutDate\": \"2020-06-06\",\n",
    "                 \"Building\": \"B1000\",\n",
    "                 \"Floor\": \"T1\",\n",
    "                 \"Unit\": \"01\"\n",
    "            },\n",
    "          \"parkingList\":[\n",
    "            {\n",
    "                \"VehicleState\":\"New York\",\n",
    "                \"VehicleModel\":\"Cruze\",\n",
    "                \"VehicleMake\":\"Chevy\",\n",
    "                \"VehicleColor\":\"Red\",\n",
    "                 \"VehicleYear\":\"2014\",\n",
    "                \"LicensePlate\":\"HWM-2821\",\n",
    "                \"LeasableItemId\":\"01t54000006m6fFAAQ\"\n",
    "            }\n",
    "          ]\n",
    "      }\n",
    "   ]\n",
    "}\n",
    "</code>"
   ]
  },
  {
   "cell_type": "code",
   "execution_count": 31,
   "metadata": {},
   "outputs": [],
   "source": [
    "\n",
    "class FakeData():\n",
    "    def __init__(self,num,floor_name,parking_name):\n",
    "        self.floor_name = floor_name\n",
    "        self.parking_name=parking_name\n",
    "        self.dataDict = {\n",
    "            \"participantList\":[]\n",
    "        }\n",
    "        self.gen_data(num)\n",
    "    def gen_data(self,num):\n",
    "        for i in range(0,num):\n",
    "            self.dataDict['participantList'].append(self.create_dict())\n",
    "        \n",
    "    def create_dict(self):\n",
    "        return {\n",
    "         \"Street\":faker.street_address(),\n",
    "         \"State\":faker.state(),\n",
    "         \"Region\":\"United States\",\n",
    "         \"PropertyCode\":property_code,\n",
    "         \"PreferredName\":faker.name(),\n",
    "         \"PostalCode\":faker.zipcode(),\n",
    "         \"Mobile\":faker.phone_number(),\n",
    "         \"MobileCountryCode\":\"US\",\n",
    "         \"MiddleName\":faker.last_name(),\n",
    "         \"LastName\":faker.last_name(),\n",
    "         \"HousingGender\":\"Male\",\n",
    "         \"FirstName\":faker.first_name_male(),\n",
    "         \"EmergencyContactRelationship\": \"Mother\",\n",
    "         \"EmergencyContactPhone\":faker.phone_number(),\n",
    "         \"EmergencyContactName\":faker.name_female(),\n",
    "         \"EmergencyContactCountryCode\":\"US\",\n",
    "         \"Email\":faker.ascii_email(),\n",
    "         \"DOB\":faker.date(pattern='%Y-%m-%d',end_datetime=None),\n",
    "         \"City\":faker.city(),\n",
    "         \"CandidateRefNum\":faker.sha1(),\n",
    "         \"floorPlan\":\n",
    "            {\n",
    "                \"LeasableItemId\":floor_plan.get_id(self.floor_name),\n",
    "                \"UnitAssignInDate\":faker.date_between(start_date='-30d', end_date='today').isoformat(),\n",
    "                 \"UnitAssignOutDate\": faker.date_between(start_date='+30d', end_date='+60d').isoformat(),\n",
    "                 \"Building\": \"B1000\",\n",
    "                 \"Floor\": \"T1\",\n",
    "                 \"Unit\": \"01\"\n",
    "            },\n",
    "          \"parkingList\":[\n",
    "            {\n",
    "                \"VehicleState\": faker.state(),\n",
    "                \"VehicleModel\":\"Cruze\",\n",
    "                \"VehicleMake\":\"Chevy\",\n",
    "                \"VehicleColor\":\"Red\",\n",
    "                 \"VehicleYear\":faker.year(),\n",
    "                \"LicensePlate\":faker.license_plate(),\n",
    "                \"LeasableItemId\":floor_plan.get_id(self.parking_name)\n",
    "            }\n",
    "          ]            \n",
    "        }\n",
    "        \n"
   ]
  },
  {
   "cell_type": "code",
   "execution_count": 32,
   "metadata": {},
   "outputs": [],
   "source": [
    "%matplotlib inline\n",
    "import pandas as pd\n",
    "import numpy as np\n",
    "import matplotlib.pyplot as plt\n",
    "import matplotlib.animation as animation\n",
    "from matplotlib import style\n",
    "from streamz.dataframe import DataFrame\n",
    "from streamz import Stream\n",
    "from IPython.display import display, HTML, clear_output\n",
    "\n",
    "style.use('fivethirtyeight')\n",
    "\n",
    "stream = Stream()\n",
    "example = pd.DataFrame({\n",
    "    'Id':[],\n",
    "    'CompletedDate':[],\n",
    "    'ExtendedStatus':[],\n",
    "    'JobItemsProcessed':[],\n",
    "    'JobType':[],\n",
    "    'MethodName':[],\n",
    "    'NumberOfErrors':[],\n",
    "    'Status':[],\n",
    "    'TotalJobItems':[],\n",
    "    'CreatedDate':[]                        \n",
    "    })\n",
    "example.set_index('Id')\n",
    "\n",
    "class Simulator():\n",
    "    \n",
    "    def __init__(self,num_templates,num_trials,async_apex):\n",
    "        \n",
    "        self.num_templates = num_templates\n",
    "        self.num_trials = num_trials\n",
    "        self.async_apex =async_apex\n",
    "        self.timeout = 15 if self.num_templates < 10 else self.num_templates* 2.5\n",
    "        self.record_list = []; # hold the id of the async apex job\n",
    "        self.graph_data = []\n",
    "        # Initiate plot\n",
    "        self.init_plot()\n",
    "    def init_plot(self):\n",
    "        plt.xlabel('Time (seconds)')\n",
    "        plt.ylabel('Frequency')\n",
    "        plt.title('{} Template(s) for {} trial(s)'.format(self.num_templates,self.num_trials))\n",
    "    \n",
    "    def post_templates(self):\n",
    "        payload = FakeData(self.num_templates,'Floor Plan 2FT 2BERM','Test Covered Parking').dataDict\n",
    "        connection.sf.apexecute('integration/disney', method='POST', data=payload) # post templates\n",
    "        # Start the batch\n",
    "        os.system('sfdx force:apex:execute -f ./anon.apex -u '+connection.username)\n",
    "    def calculate_time_diff(self,record):\n",
    "        start_datetime = dateutil.parser.parse(record['CreatedDate'])\n",
    "        end_datetime= dateutil.parser.parse(record['CompletedDate'])\n",
    "        return end_datetime- start_datetime\n",
    "    def validate_records(self):\n",
    "        \n",
    "        while len(self.async_apex.records)!=0:\n",
    "            time.sleep(3)\n",
    "            for i,record in enumerate(self.async_apex.records):\n",
    "                if record['CompletedDate'] is not None:\n",
    "                    self.graph_data.append(\n",
    "                        self.calculate_time_diff(self.async_apex.records.pop(i)).total_seconds()\n",
    "                    )\n",
    "                    clear_output(wait=True)\n",
    "                    print(pd.Series(self.graph_data).describe())\n",
    "                    \n",
    "                    \n",
    "                    \n",
    "            self.async_apex.set_id_list(self.async_apex.records)\n",
    "            if(len(self.async_apex.id_list)!=0):\n",
    "                set_string = self.async_apex.create_set_string()\n",
    "                self.async_apex.query_on_ids(set_string)\n",
    "        plt.hist(self.graph_data) \n",
    "        plt.show()      \n",
    "                                                     \n",
    "    def simulate(self): \n",
    "    \n",
    "        for i in range(0,self.num_trials):\n",
    "            self.post_templates()\n",
    "            time.sleep(3)\n",
    "            record = self.async_apex.get_record()\n",
    "            self.record_list.append(record)\n",
    "            \n",
    "        self.async_apex.set_id_list(self.record_list)\n",
    "        set_string = self.async_apex.create_set_string()\n",
    "        self.async_apex.query_on_ids(set_string)\n",
    "        self.validate_records()        \n",
    "        #self.calculate_time_diff(record)\n",
    "                  \n",
    "async_apex = ApexAsyncJob(connection)\n",
    "\n",
    "\n"
   ]
  },
  {
   "cell_type": "code",
   "execution_count": 34,
   "metadata": {},
   "outputs": [
    {
     "name": "stdout",
     "output_type": "stream",
     "text": [
      "count    1.0\n",
      "mean     7.0\n",
      "std      NaN\n",
      "min      7.0\n",
      "25%      7.0\n",
      "50%      7.0\n",
      "75%      7.0\n",
      "max      7.0\n",
      "dtype: float64\n"
     ]
    },
    {
     "data": {
      "image/png": "[encoded data removed]",
      "text/plain": [
       "<Figure size 432x288 with 1 Axes>"
      ]
     },
     "metadata": {},
     "output_type": "display_data"
    }
   ],
   "source": [
    "purge_data()\n",
    "simulator_1_for_1 = Simulator(num_templates=1,num_trials=1,async_apex=async_apex)\n",
    "simulator_1_for_1.simulate()"
   ]
  },
  {
   "cell_type": "code",
   "execution_count": 23,
   "metadata": {},
   "outputs": [
    {
     "name": "stdout",
     "output_type": "stream",
     "text": [
      "count    10.000000\n",
      "mean     18.000000\n",
      "std      10.832051\n",
      "min       5.000000\n",
      "25%       8.000000\n",
      "50%      18.000000\n",
      "75%      25.500000\n",
      "max      34.000000\n",
      "dtype: float64\n"
     ]
    },
    {
     "data": {
      "image/png": "[encoded data removed]",
      "text/plain": [
       "<Figure size 432x288 with 1 Axes>"
      ]
     },
     "metadata": {},
     "output_type": "display_data"
    }
   ],
   "source": [
    "simulator_1_for_10 = Simulator(num_templates=1,num_trials=10,async_apex= async_apex)\n",
    "simulator_1_for_10.simulate()"
   ]
  },
  {
   "cell_type": "code",
   "execution_count": 24,
   "metadata": {},
   "outputs": [
    {
     "name": "stdout",
     "output_type": "stream",
     "text": [
      "count     10.000000\n",
      "mean     231.900000\n",
      "std      103.349945\n",
      "min       58.000000\n",
      "25%      165.000000\n",
      "50%      245.500000\n",
      "75%      312.000000\n",
      "max      351.000000\n",
      "dtype: float64\n"
     ]
    },
    {
     "data": {
      "image/png": "[encoded data removed]",
      "text/plain": [
       "<Figure size 432x288 with 1 Axes>"
      ]
     },
     "metadata": {},
     "output_type": "display_data"
    }
   ],
   "source": [
    "purge_data()\n",
    "simulator_10_for_10 = Simulator(num_templates=10,num_trials=10,async_apex= async_apex)\n",
    "simulator_10_for_10.simulate()"
   ]
  },
  {
   "cell_type": "code",
   "execution_count": null,
   "metadata": {},
   "outputs": [],
   "source": [
    "purge_data()\n",
    "simulator_100_for_10 = Simulator(num_templates=100,num_trials=10,async_apex= async_apex)\n",
    "simulator_100_for_10.simulate()"
   ]
  },
  {
   "cell_type": "code",
   "execution_count": null,
   "metadata": {},
   "outputs": [],
   "source": []
  }
 ],
 "metadata": {
  "kernelspec": {
   "display_name": "Python 3",
   "language": "python",
   "name": "python3"
  },
  "language_info": {
   "codemirror_mode": {
    "name": "ipython",
    "version": 3
   },
   "file_extension": ".py",
   "mimetype": "text/x-python",
   "name": "python",
   "nbconvert_exporter": "python",
   "pygments_lexer": "ipython3",
   "version": "3.7.3"
  }
 },
 "nbformat": 4,
 "nbformat_minor": 2
}
